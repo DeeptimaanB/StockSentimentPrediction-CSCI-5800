{
 "cells": [
  {
   "cell_type": "code",
   "execution_count": 1,
   "id": "a683459c-4bdf-457e-b09a-abe624d9f7ef",
   "metadata": {
    "editable": true,
    "slideshow": {
     "slide_type": ""
    },
    "tags": []
   },
   "outputs": [
    {
     "name": "stderr",
     "output_type": "stream",
     "text": [
      "2024-12-13 08:51:08.491126: I tensorflow/core/platform/cpu_feature_guard.cc:182] This TensorFlow binary is optimized to use available CPU instructions in performance-critical operations.\n",
      "To enable the following instructions: AVX2 AVX512F FMA, in other operations, rebuild TensorFlow with the appropriate compiler flags.\n",
      "2024-12-13 08:51:09.149575: W tensorflow/compiler/tf2tensorrt/utils/py_utils.cc:38] TF-TRT Warning: Could not find TensorRT\n"
     ]
    }
   ],
   "source": [
    "import tensorflow as tf\n",
    "from tensorflow.keras.layers import Input, Dense, Conv1D, GlobalMaxPooling1D, Dropout\n",
    "from tensorflow.keras.models import Model\n",
    "from tensorflow.keras.optimizers import Adam\n",
    "from transformers import BertTokenizer, TFBertModel\n",
    "import pandas as pd\n",
    "from sklearn.model_selection import train_test_split\n",
    "from sklearn.preprocessing import LabelEncoder\n",
    "from tensorflow.keras.utils import to_categorical\n",
    "from tensorflow.keras.callbacks import ModelCheckpoint"
   ]
  },
  {
   "cell_type": "code",
   "execution_count": 2,
   "id": "3bca0de6-05cb-4ef2-a95c-764cd5fc8699",
   "metadata": {},
   "outputs": [
    {
     "data": {
      "text/html": [
       "<div>\n",
       "<style scoped>\n",
       "    .dataframe tbody tr th:only-of-type {\n",
       "        vertical-align: middle;\n",
       "    }\n",
       "\n",
       "    .dataframe tbody tr th {\n",
       "        vertical-align: top;\n",
       "    }\n",
       "\n",
       "    .dataframe thead th {\n",
       "        text-align: right;\n",
       "    }\n",
       "</style>\n",
       "<table border=\"1\" class=\"dataframe\">\n",
       "  <thead>\n",
       "    <tr style=\"text-align: right;\">\n",
       "      <th></th>\n",
       "      <th>Text</th>\n",
       "      <th>Sentiment</th>\n",
       "    </tr>\n",
       "  </thead>\n",
       "  <tbody>\n",
       "    <tr>\n",
       "      <th>0</th>\n",
       "      <td>Kickers on my watchlist XIDE TIT SOQ PNK CPW B...</td>\n",
       "      <td>1</td>\n",
       "    </tr>\n",
       "    <tr>\n",
       "      <th>1</th>\n",
       "      <td>user: AAP MOVIE. 55% return for the FEA/GEED i...</td>\n",
       "      <td>1</td>\n",
       "    </tr>\n",
       "    <tr>\n",
       "      <th>2</th>\n",
       "      <td>user I'd be afraid to short AMZN - they are lo...</td>\n",
       "      <td>1</td>\n",
       "    </tr>\n",
       "    <tr>\n",
       "      <th>3</th>\n",
       "      <td>MNTA Over 12.00</td>\n",
       "      <td>1</td>\n",
       "    </tr>\n",
       "    <tr>\n",
       "      <th>4</th>\n",
       "      <td>OI  Over 21.37</td>\n",
       "      <td>1</td>\n",
       "    </tr>\n",
       "    <tr>\n",
       "      <th>...</th>\n",
       "      <td>...</td>\n",
       "      <td>...</td>\n",
       "    </tr>\n",
       "    <tr>\n",
       "      <th>5786</th>\n",
       "      <td>Industry body CII said #discoms are likely to ...</td>\n",
       "      <td>-1</td>\n",
       "    </tr>\n",
       "    <tr>\n",
       "      <th>5787</th>\n",
       "      <td>#Gold prices slip below Rs 46,000 as #investor...</td>\n",
       "      <td>-1</td>\n",
       "    </tr>\n",
       "    <tr>\n",
       "      <th>5788</th>\n",
       "      <td>Workers at Bajaj Auto have agreed to a 10% wag...</td>\n",
       "      <td>1</td>\n",
       "    </tr>\n",
       "    <tr>\n",
       "      <th>5789</th>\n",
       "      <td>#Sharemarket LIVE: Sensex off day’s high, up 6...</td>\n",
       "      <td>1</td>\n",
       "    </tr>\n",
       "    <tr>\n",
       "      <th>5790</th>\n",
       "      <td>#Sensex, #Nifty climb off day's highs, still u...</td>\n",
       "      <td>1</td>\n",
       "    </tr>\n",
       "  </tbody>\n",
       "</table>\n",
       "<p>5791 rows × 2 columns</p>\n",
       "</div>"
      ],
      "text/plain": [
       "                                                   Text  Sentiment\n",
       "0     Kickers on my watchlist XIDE TIT SOQ PNK CPW B...          1\n",
       "1     user: AAP MOVIE. 55% return for the FEA/GEED i...          1\n",
       "2     user I'd be afraid to short AMZN - they are lo...          1\n",
       "3                                     MNTA Over 12.00            1\n",
       "4                                      OI  Over 21.37            1\n",
       "...                                                 ...        ...\n",
       "5786  Industry body CII said #discoms are likely to ...         -1\n",
       "5787  #Gold prices slip below Rs 46,000 as #investor...         -1\n",
       "5788  Workers at Bajaj Auto have agreed to a 10% wag...          1\n",
       "5789  #Sharemarket LIVE: Sensex off day’s high, up 6...          1\n",
       "5790  #Sensex, #Nifty climb off day's highs, still u...          1\n",
       "\n",
       "[5791 rows x 2 columns]"
      ]
     },
     "execution_count": 2,
     "metadata": {},
     "output_type": "execute_result"
    }
   ],
   "source": [
    "# Load dataset\n",
    "data = pd.read_csv(\"stock_data.csv\")\n",
    "data"
   ]
  },
  {
   "cell_type": "code",
   "execution_count": 3,
   "id": "3a20e72f-081f-4637-89e7-653f8d92bc28",
   "metadata": {},
   "outputs": [],
   "source": [
    "# Preprocess dataset\n",
    "data['Sentiment'] = data['Sentiment'].apply(lambda x: 1 if x == 1 else 0)\n",
    "texts = data['Text'].values\n",
    "sentiments = data['Sentiment'].values"
   ]
  },
  {
   "cell_type": "code",
   "execution_count": 4,
   "id": "3d5ae9f4-21e4-4142-9082-9579ab709934",
   "metadata": {},
   "outputs": [
    {
     "data": {
      "text/plain": [
       "array(['Kickers on my watchlist XIDE TIT SOQ PNK CPW BPZ AJ  trade method 1 or method 2, see prev posts',\n",
       "       'user: AAP MOVIE. 55% return for the FEA/GEED indicator just 15 trades for the year.  AWESOME.  ',\n",
       "       \"user I'd be afraid to short AMZN - they are looking like a near-monopoly in eBooks and infrastructure-as-a-service\",\n",
       "       ...,\n",
       "       'Workers at Bajaj Auto have agreed to a 10% wage cut for the period between April 15 and till the lockdown is lifted. https://t.co/RgvrKPliNd',\n",
       "       '#Sharemarket LIVE: Sensex off day’s high, up 600 points, #Nifty tests 9,200, #TCS, private bank stocks lead\\nhttps://t.co/3xgtLroKUI',\n",
       "       \"#Sensex, #Nifty climb off day's highs, still up 2%; Key factors driving D-Street higher today https://t.co/jVQcousFp6\"],\n",
       "      dtype=object)"
      ]
     },
     "execution_count": 4,
     "metadata": {},
     "output_type": "execute_result"
    }
   ],
   "source": [
    "texts"
   ]
  },
  {
   "cell_type": "code",
   "execution_count": 5,
   "id": "a080354b-9619-4001-90b5-11cb109b026c",
   "metadata": {},
   "outputs": [
    {
     "data": {
      "text/plain": [
       "array([1, 1, 1, ..., 1, 1, 1])"
      ]
     },
     "execution_count": 5,
     "metadata": {},
     "output_type": "execute_result"
    }
   ],
   "source": [
    "sentiments"
   ]
  },
  {
   "cell_type": "code",
   "execution_count": 6,
   "id": "76d64def-b02e-4dc4-9ab5-e06fcc610591",
   "metadata": {
    "editable": true,
    "slideshow": {
     "slide_type": ""
    },
    "tags": []
   },
   "outputs": [
    {
     "name": "stderr",
     "output_type": "stream",
     "text": [
      "2024-12-13 08:51:14.863344: I tensorflow/core/common_runtime/gpu/gpu_device.cc:1639] Created device /job:localhost/replica:0/task:0/device:GPU:0 with 10347 MB memory:  -> device: 0, name: NVIDIA TITAN Xp, pci bus id: 0000:19:00.0, compute capability: 6.1\n",
      "2024-12-13 08:51:14.864002: I tensorflow/core/common_runtime/gpu/gpu_device.cc:1639] Created device /job:localhost/replica:0/task:0/device:GPU:1 with 11395 MB memory:  -> device: 1, name: NVIDIA TITAN Xp, pci bus id: 0000:1a:00.0, compute capability: 6.1\n",
      "2024-12-13 08:51:14.864519: I tensorflow/core/common_runtime/gpu/gpu_device.cc:1639] Created device /job:localhost/replica:0/task:0/device:GPU:2 with 11395 MB memory:  -> device: 2, name: NVIDIA TITAN Xp, pci bus id: 0000:67:00.0, compute capability: 6.1\n",
      "2024-12-13 08:51:14.865014: I tensorflow/core/common_runtime/gpu/gpu_device.cc:1639] Created device /job:localhost/replica:0/task:0/device:GPU:3 with 11387 MB memory:  -> device: 3, name: NVIDIA TITAN Xp, pci bus id: 0000:68:00.0, compute capability: 6.1\n"
     ]
    }
   ],
   "source": [
    "# Tokenizer\n",
    "tokenizer = BertTokenizer.from_pretrained('bert-base-uncased')\n",
    "\n",
    "# Tokenize and pad/truncate the data\n",
    "def tokenize_data(texts, tokenizer, max_len=128):\n",
    "    encodings = tokenizer(\n",
    "        list(texts),\n",
    "        truncation=True,\n",
    "        padding='max_length',  # Ensure all sequences are of max_len\n",
    "        max_length=max_len,\n",
    "        return_tensors='tf'\n",
    "    )\n",
    "    return encodings\n",
    "\n",
    "max_len = 128\n",
    "encodings = tokenize_data(texts, tokenizer, max_len=max_len)"
   ]
  },
  {
   "cell_type": "code",
   "execution_count": 7,
   "id": "a7321401-fa11-43af-b8f7-a0ce432e4f55",
   "metadata": {},
   "outputs": [
    {
     "name": "stdout",
     "output_type": "stream",
     "text": [
      "Train inputs shape: (4632, 128)\n",
      "Train attention shape: (4632, 128)\n"
     ]
    }
   ],
   "source": [
    "# Convert to NumPy arrays\n",
    "input_ids_np = encodings['input_ids'].numpy()\n",
    "attention_mask_np = encodings['attention_mask'].numpy()\n",
    "\n",
    "# Split dataset\n",
    "train_inputs, test_inputs, train_labels, test_labels = train_test_split(\n",
    "    input_ids_np, sentiments, test_size=0.2, random_state=42\n",
    ")\n",
    "\n",
    "train_attention, test_attention = train_test_split(\n",
    "    attention_mask_np, test_size=0.2, random_state=42\n",
    ")\n",
    "\n",
    "print(f\"Train inputs shape: {train_inputs.shape}\")\n",
    "print(f\"Train attention shape: {train_attention.shape}\")"
   ]
  },
  {
   "cell_type": "code",
   "execution_count": 8,
   "id": "21ba905b-f7ff-46f5-a727-e25fa9832d65",
   "metadata": {
    "editable": true,
    "slideshow": {
     "slide_type": ""
    },
    "tags": []
   },
   "outputs": [
    {
     "name": "stderr",
     "output_type": "stream",
     "text": [
      "Some weights of the PyTorch model were not used when initializing the TF 2.0 model TFBertModel: ['cls.predictions.transform.LayerNorm.weight', 'cls.seq_relationship.weight', 'cls.predictions.transform.LayerNorm.bias', 'cls.seq_relationship.bias', 'cls.predictions.transform.dense.bias', 'cls.predictions.transform.dense.weight', 'cls.predictions.bias']\n",
      "- This IS expected if you are initializing TFBertModel from a PyTorch model trained on another task or with another architecture (e.g. initializing a TFBertForSequenceClassification model from a BertForPreTraining model).\n",
      "- This IS NOT expected if you are initializing TFBertModel from a PyTorch model that you expect to be exactly identical (e.g. initializing a TFBertForSequenceClassification model from a BertForSequenceClassification model).\n",
      "All the weights of TFBertModel were initialized from the PyTorch model.\n",
      "If your task is similar to the task the model of the checkpoint was trained on, you can already use TFBertModel for predictions without further training.\n"
     ]
    }
   ],
   "source": [
    "# BERT Model\n",
    "bert_model = TFBertModel.from_pretrained('bert-base-uncased')\n",
    "\n",
    "# Define the model\n",
    "input_ids = Input(shape=(max_len,), dtype=tf.int32, name='input_ids')\n",
    "attention_mask = Input(shape=(max_len,), dtype=tf.int32, name='attention_mask')\n",
    "\n",
    "bert_output = bert_model(input_ids, attention_mask=attention_mask)\n",
    "sequence_output = bert_output.last_hidden_state\n",
    "\n",
    "bert_model.trainable = True \n",
    "\n",
    "# Freeze the pooler layer\n",
    "for layer in bert_model.layers:\n",
    "    if 'pooler' in layer.name:\n",
    "        layer.trainable = False\n",
    "\n",
    "# CNN layers\n",
    "conv1 = Conv1D(filters=128, kernel_size=3, activation='relu')(sequence_output)\n",
    "pool1 = GlobalMaxPooling1D()(conv1)\n",
    "\n",
    "# Fully connected layer\n",
    "fc = Dense(128, activation='relu')(pool1)\n",
    "dropout = Dropout(0.3)(fc)\n",
    "output = Dense(1, activation='sigmoid')(dropout)\n",
    "\n",
    "# Compile model\n",
    "model = Model(inputs=[input_ids, attention_mask], outputs=output)\n",
    "model.compile(optimizer=Adam(learning_rate=2e-5), loss='binary_crossentropy', metrics=['accuracy'])\n"
   ]
  },
  {
   "cell_type": "code",
   "execution_count": 9,
   "id": "5fbaa3fe-3060-478e-8db3-bdb9354965d6",
   "metadata": {},
   "outputs": [
    {
     "name": "stdout",
     "output_type": "stream",
     "text": [
      "Model: \"model\"\n",
      "__________________________________________________________________________________________________\n",
      " Layer (type)                Output Shape                 Param #   Connected to                  \n",
      "==================================================================================================\n",
      " input_ids (InputLayer)      [(None, 128)]                0         []                            \n",
      "                                                                                                  \n",
      " attention_mask (InputLayer  [(None, 128)]                0         []                            \n",
      " )                                                                                                \n",
      "                                                                                                  \n",
      " tf_bert_model (TFBertModel  TFBaseModelOutputWithPooli   1094822   ['input_ids[0][0]',           \n",
      " )                           ngAndCrossAttentions(last_   40         'attention_mask[0][0]']      \n",
      "                             hidden_state=(None, 128, 7                                           \n",
      "                             68),                                                                 \n",
      "                              pooler_output=(None, 768)                                           \n",
      "                             , past_key_values=None, hi                                           \n",
      "                             dden_states=None, attentio                                           \n",
      "                             ns=None, cross_attentions=                                           \n",
      "                             None)                                                                \n",
      "                                                                                                  \n",
      " conv1d (Conv1D)             (None, 126, 128)             295040    ['tf_bert_model[0][0]']       \n",
      "                                                                                                  \n",
      " global_max_pooling1d (Glob  (None, 128)                  0         ['conv1d[0][0]']              \n",
      " alMaxPooling1D)                                                                                  \n",
      "                                                                                                  \n",
      " dense (Dense)               (None, 128)                  16512     ['global_max_pooling1d[0][0]']\n",
      "                                                                                                  \n",
      " dropout_37 (Dropout)        (None, 128)                  0         ['dense[0][0]']               \n",
      "                                                                                                  \n",
      " dense_1 (Dense)             (None, 1)                    129       ['dropout_37[0][0]']          \n",
      "                                                                                                  \n",
      "==================================================================================================\n",
      "Total params: 109793921 (418.83 MB)\n",
      "Trainable params: 109793921 (418.83 MB)\n",
      "Non-trainable params: 0 (0.00 Byte)\n",
      "__________________________________________________________________________________________________\n"
     ]
    }
   ],
   "source": [
    "model.summary()"
   ]
  },
  {
   "cell_type": "code",
   "execution_count": 10,
   "id": "d2c0d955-4ac6-4e80-a2d3-0107c7e7aef6",
   "metadata": {
    "scrolled": true
   },
   "outputs": [
    {
     "name": "stdout",
     "output_type": "stream",
     "text": [
      "Epoch 1/20\n",
      "WARNING:tensorflow:Gradients do not exist for variables ['tf_bert_model/bert/pooler/dense/kernel:0', 'tf_bert_model/bert/pooler/dense/bias:0'] when minimizing the loss. If you're using `model.compile()`, did you forget to provide a `loss` argument?\n",
      "WARNING:tensorflow:Gradients do not exist for variables ['tf_bert_model/bert/pooler/dense/kernel:0', 'tf_bert_model/bert/pooler/dense/bias:0'] when minimizing the loss. If you're using `model.compile()`, did you forget to provide a `loss` argument?\n",
      "WARNING:tensorflow:Gradients do not exist for variables ['tf_bert_model/bert/pooler/dense/kernel:0', 'tf_bert_model/bert/pooler/dense/bias:0'] when minimizing the loss. If you're using `model.compile()`, did you forget to provide a `loss` argument?\n",
      "WARNING:tensorflow:Gradients do not exist for variables ['tf_bert_model/bert/pooler/dense/kernel:0', 'tf_bert_model/bert/pooler/dense/bias:0'] when minimizing the loss. If you're using `model.compile()`, did you forget to provide a `loss` argument?\n"
     ]
    },
    {
     "name": "stderr",
     "output_type": "stream",
     "text": [
      "2024-12-13 08:51:33.734488: I tensorflow/compiler/xla/stream_executor/cuda/cuda_dnn.cc:432] Loaded cuDNN version 8600\n",
      "2024-12-13 08:51:33.880168: I tensorflow/compiler/xla/service/service.cc:168] XLA service 0x7fd89a948dd0 initialized for platform CUDA (this does not guarantee that XLA will be used). Devices:\n",
      "2024-12-13 08:51:33.880192: I tensorflow/compiler/xla/service/service.cc:176]   StreamExecutor device (0): NVIDIA TITAN Xp, Compute Capability 6.1\n",
      "2024-12-13 08:51:33.880197: I tensorflow/compiler/xla/service/service.cc:176]   StreamExecutor device (1): NVIDIA TITAN Xp, Compute Capability 6.1\n",
      "2024-12-13 08:51:33.880201: I tensorflow/compiler/xla/service/service.cc:176]   StreamExecutor device (2): NVIDIA TITAN Xp, Compute Capability 6.1\n",
      "2024-12-13 08:51:33.880205: I tensorflow/compiler/xla/service/service.cc:176]   StreamExecutor device (3): NVIDIA TITAN Xp, Compute Capability 6.1\n",
      "2024-12-13 08:51:33.883522: I tensorflow/compiler/mlir/tensorflow/utils/dump_mlir_util.cc:255] disabling MLIR crash reproducer, set env var `MLIR_CRASH_REPRODUCER_DIRECTORY` to enable.\n",
      "2024-12-13 08:51:33.896893: W tensorflow/compiler/xla/service/gpu/llvm_gpu_backend/gpu_backend_lib.cc:543] Can't find libdevice directory ${CUDA_DIR}/nvvm/libdevice. This may result in compilation or runtime failures, if the program we try to run uses routines from libdevice.\n",
      "Searched for CUDA in the following directories:\n",
      "  ./cuda_sdk_lib\n",
      "  /usr/local/cuda-11.8\n",
      "  /usr/local/cuda\n",
      "  .\n",
      "You can choose the search directory by setting xla_gpu_cuda_data_dir in HloModule's DebugOptions.  For most apps, setting the environment variable XLA_FLAGS=--xla_gpu_cuda_data_dir=/path/to/cuda will work.\n",
      "2024-12-13 08:51:33.972993: I ./tensorflow/compiler/jit/device_compiler.h:186] Compiled cluster using XLA!  This line is logged at most once for the lifetime of the process.\n"
     ]
    },
    {
     "name": "stdout",
     "output_type": "stream",
     "text": [
      "116/116 [==============================] - ETA: 0s - loss: 0.6337 - accuracy: 0.6451\n",
      "Epoch 1: accuracy improved from -inf to 0.64507, saving model to bert_cnn_sentiment_model.h5\n"
     ]
    },
    {
     "name": "stderr",
     "output_type": "stream",
     "text": [
      "/home/deeptimaan/.conda/envs/venv-p39-tf2/lib/python3.9/site-packages/keras/src/engine/training.py:3000: UserWarning: You are saving your model as an HDF5 file via `model.save()`. This file format is considered legacy. We recommend using instead the native Keras format, e.g. `model.save('my_model.keras')`.\n",
      "  saving_api.save_model(\n"
     ]
    },
    {
     "name": "stdout",
     "output_type": "stream",
     "text": [
      "116/116 [==============================] - 88s 515ms/step - loss: 0.6337 - accuracy: 0.6451 - val_loss: 0.5226 - val_accuracy: 0.7411\n",
      "Epoch 2/20\n",
      "116/116 [==============================] - ETA: 0s - loss: 0.4428 - accuracy: 0.8016\n",
      "Epoch 2: accuracy improved from 0.64507 to 0.80162, saving model to bert_cnn_sentiment_model.h5\n",
      "116/116 [==============================] - 58s 505ms/step - loss: 0.4428 - accuracy: 0.8016 - val_loss: 0.4438 - val_accuracy: 0.8026\n",
      "Epoch 3/20\n",
      "116/116 [==============================] - ETA: 0s - loss: 0.2935 - accuracy: 0.8829\n",
      "Epoch 3: accuracy improved from 0.80162 to 0.88286, saving model to bert_cnn_sentiment_model.h5\n",
      "116/116 [==============================] - 59s 510ms/step - loss: 0.2935 - accuracy: 0.8829 - val_loss: 0.5121 - val_accuracy: 0.8058\n",
      "Epoch 4/20\n",
      "116/116 [==============================] - ETA: 0s - loss: 0.1633 - accuracy: 0.9347\n",
      "Epoch 4: accuracy improved from 0.88286 to 0.93468, saving model to bert_cnn_sentiment_model.h5\n",
      "116/116 [==============================] - 60s 517ms/step - loss: 0.1633 - accuracy: 0.9347 - val_loss: 0.6433 - val_accuracy: 0.7875\n",
      "Epoch 5/20\n",
      "116/116 [==============================] - ETA: 0s - loss: 0.0844 - accuracy: 0.9684\n",
      "Epoch 5: accuracy improved from 0.93468 to 0.96842, saving model to bert_cnn_sentiment_model.h5\n",
      "116/116 [==============================] - 59s 508ms/step - loss: 0.0844 - accuracy: 0.9684 - val_loss: 0.6824 - val_accuracy: 0.8026\n",
      "Epoch 6/20\n",
      "116/116 [==============================] - ETA: 0s - loss: 0.0471 - accuracy: 0.9846\n",
      "Epoch 6: accuracy improved from 0.96842 to 0.98462, saving model to bert_cnn_sentiment_model.h5\n",
      "116/116 [==============================] - 60s 517ms/step - loss: 0.0471 - accuracy: 0.9846 - val_loss: 0.7857 - val_accuracy: 0.8198\n",
      "Epoch 7/20\n",
      "116/116 [==============================] - ETA: 0s - loss: 0.0383 - accuracy: 0.9881\n",
      "Epoch 7: accuracy improved from 0.98462 to 0.98812, saving model to bert_cnn_sentiment_model.h5\n",
      "116/116 [==============================] - 60s 516ms/step - loss: 0.0383 - accuracy: 0.9881 - val_loss: 0.8543 - val_accuracy: 0.8047\n",
      "Epoch 8/20\n",
      "116/116 [==============================] - ETA: 0s - loss: 0.0228 - accuracy: 0.9924\n",
      "Epoch 8: accuracy improved from 0.98812 to 0.99244, saving model to bert_cnn_sentiment_model.h5\n",
      "116/116 [==============================] - 60s 515ms/step - loss: 0.0228 - accuracy: 0.9924 - val_loss: 0.8299 - val_accuracy: 0.8037\n",
      "Epoch 9/20\n",
      "116/116 [==============================] - ETA: 0s - loss: 0.0172 - accuracy: 0.9954\n",
      "Epoch 9: accuracy improved from 0.99244 to 0.99541, saving model to bert_cnn_sentiment_model.h5\n",
      "116/116 [==============================] - 60s 519ms/step - loss: 0.0172 - accuracy: 0.9954 - val_loss: 0.9482 - val_accuracy: 0.8080\n",
      "Epoch 10/20\n",
      "116/116 [==============================] - ETA: 0s - loss: 0.0159 - accuracy: 0.9951\n",
      "Epoch 10: accuracy did not improve from 0.99541\n",
      "116/116 [==============================] - 54s 465ms/step - loss: 0.0159 - accuracy: 0.9951 - val_loss: 1.0708 - val_accuracy: 0.8080\n",
      "Epoch 11/20\n",
      "116/116 [==============================] - ETA: 0s - loss: 0.0147 - accuracy: 0.9957\n",
      "Epoch 11: accuracy improved from 0.99541 to 0.99568, saving model to bert_cnn_sentiment_model.h5\n",
      "116/116 [==============================] - 62s 535ms/step - loss: 0.0147 - accuracy: 0.9957 - val_loss: 1.0825 - val_accuracy: 0.8004\n",
      "Epoch 12/20\n",
      "116/116 [==============================] - ETA: 0s - loss: 0.0198 - accuracy: 0.9935\n",
      "Epoch 12: accuracy did not improve from 0.99568\n",
      "116/116 [==============================] - 54s 465ms/step - loss: 0.0198 - accuracy: 0.9935 - val_loss: 1.0337 - val_accuracy: 0.8015\n",
      "Epoch 13/20\n",
      "116/116 [==============================] - ETA: 0s - loss: 0.0123 - accuracy: 0.9973\n",
      "Epoch 13: accuracy improved from 0.99568 to 0.99730, saving model to bert_cnn_sentiment_model.h5\n",
      "116/116 [==============================] - 61s 528ms/step - loss: 0.0123 - accuracy: 0.9973 - val_loss: 1.0157 - val_accuracy: 0.8004\n",
      "Epoch 14/20\n",
      "116/116 [==============================] - ETA: 0s - loss: 0.0143 - accuracy: 0.9954\n",
      "Epoch 14: accuracy did not improve from 0.99730\n",
      "116/116 [==============================] - 54s 463ms/step - loss: 0.0143 - accuracy: 0.9954 - val_loss: 1.1966 - val_accuracy: 0.7983\n",
      "Epoch 15/20\n",
      "116/116 [==============================] - ETA: 0s - loss: 0.0144 - accuracy: 0.9968\n",
      "Epoch 15: accuracy did not improve from 0.99730\n",
      "116/116 [==============================] - 54s 470ms/step - loss: 0.0144 - accuracy: 0.9968 - val_loss: 0.9718 - val_accuracy: 0.8112\n",
      "Epoch 16/20\n",
      "116/116 [==============================] - ETA: 0s - loss: 0.0144 - accuracy: 0.9957\n",
      "Epoch 16: accuracy did not improve from 0.99730\n",
      "116/116 [==============================] - 54s 470ms/step - loss: 0.0144 - accuracy: 0.9957 - val_loss: 1.0640 - val_accuracy: 0.7983\n",
      "Epoch 17/20\n",
      "116/116 [==============================] - ETA: 0s - loss: 0.0132 - accuracy: 0.9962\n",
      "Epoch 17: accuracy did not improve from 0.99730\n",
      "116/116 [==============================] - 55s 473ms/step - loss: 0.0132 - accuracy: 0.9962 - val_loss: 0.9521 - val_accuracy: 0.8080\n",
      "Epoch 18/20\n",
      "116/116 [==============================] - ETA: 0s - loss: 0.0116 - accuracy: 0.9957\n",
      "Epoch 18: accuracy did not improve from 0.99730\n",
      "116/116 [==============================] - 55s 471ms/step - loss: 0.0116 - accuracy: 0.9957 - val_loss: 0.9796 - val_accuracy: 0.7929\n",
      "Epoch 19/20\n",
      "116/116 [==============================] - ETA: 0s - loss: 0.0046 - accuracy: 0.9992\n",
      "Epoch 19: accuracy improved from 0.99730 to 0.99919, saving model to bert_cnn_sentiment_model.h5\n",
      "116/116 [==============================] - 62s 535ms/step - loss: 0.0046 - accuracy: 0.9992 - val_loss: 1.1286 - val_accuracy: 0.8058\n",
      "Epoch 20/20\n",
      "116/116 [==============================] - ETA: 0s - loss: 0.0046 - accuracy: 0.9989\n",
      "Epoch 20: accuracy did not improve from 0.99919\n",
      "116/116 [==============================] - 54s 465ms/step - loss: 0.0046 - accuracy: 0.9989 - val_loss: 1.1789 - val_accuracy: 0.7994\n"
     ]
    }
   ],
   "source": [
    "# Model Checkpoint\n",
    "checkpoint_callback = ModelCheckpoint(\n",
    "    'bert_cnn_sentiment_model.h5',          # File where the best model will be saved\n",
    "    monitor='accuracy',       # Metric to monitor\n",
    "    save_best_only=True,      # Save only the best model\n",
    "    mode='max',               # 'min' because we want to minimize the validation loss\n",
    "    verbose=1                 # Print a message when the model is saved\n",
    ")\n",
    "\n",
    "# Training\n",
    "history = model.fit(\n",
    "    [train_inputs, train_attention],\n",
    "    train_labels,\n",
    "    validation_split=0.2,\n",
    "    epochs=20,\n",
    "    batch_size=32,\n",
    "    callbacks=[checkpoint_callback]\n",
    ")\n"
   ]
  },
  {
   "cell_type": "code",
   "execution_count": 11,
   "id": "ebf5965c-c28e-42dd-871e-c68cede6a2b4",
   "metadata": {},
   "outputs": [
    {
     "name": "stdout",
     "output_type": "stream",
     "text": [
      "37/37 [==============================] - 6s 158ms/step - loss: 1.0380 - accuracy: 0.8231\n",
      "Test Loss: 1.0379555225372314, Test Accuracy: 0.8231233954429626\n"
     ]
    }
   ],
   "source": [
    "# Evaluation\n",
    "loss, accuracy = model.evaluate([test_inputs, test_attention], test_labels)\n",
    "print(f\"Test Loss: {loss}, Test Accuracy: {accuracy}\")\n"
   ]
  },
  {
   "cell_type": "code",
   "execution_count": 12,
   "id": "6f1c676f-6c1b-4a04-9f8d-7fce53dd6485",
   "metadata": {},
   "outputs": [
    {
     "data": {
      "image/png": "[encoded data removed]",
      "text/plain": [
       "<Figure size 1200x500 with 2 Axes>"
      ]
     },
     "metadata": {},
     "output_type": "display_data"
    }
   ],
   "source": [
    "import matplotlib.pyplot as plt\n",
    "\n",
    "# Extracting data from history\n",
    "history_dict = history.history\n",
    "loss = history_dict['loss']\n",
    "val_loss = history_dict['val_loss']\n",
    "accuracy = history_dict['accuracy']\n",
    "val_accuracy = history_dict['val_accuracy']\n",
    "\n",
    "# Getting the number of epochs\n",
    "epochs = range(1, len(loss) + 1)\n",
    "\n",
    "# Plot loss\n",
    "plt.figure(figsize=(12, 5))\n",
    "\n",
    "plt.subplot(1, 2, 1)\n",
    "plt.plot(epochs, loss, 'b-', label='Training Loss')\n",
    "plt.plot(epochs, val_loss, 'r-', label='Validation Loss')\n",
    "plt.title('Training and Validation Loss')\n",
    "plt.xlabel('Epochs')\n",
    "plt.ylabel('Loss')\n",
    "plt.legend()\n",
    "\n",
    "# Plot accuracy\n",
    "plt.subplot(1, 2, 2)\n",
    "plt.plot(epochs, accuracy, 'b-', label='Training Accuracy')\n",
    "plt.plot(epochs, val_accuracy, 'r-', label='Validation Accuracy')\n",
    "plt.title('Training and Validation Accuracy')\n",
    "plt.xlabel('Epochs')\n",
    "plt.ylabel('Accuracy')\n",
    "plt.legend()\n",
    "\n",
    "# Display the plots\n",
    "plt.tight_layout()\n",
    "plt.show()\n"
   ]
  },
  {
   "cell_type": "code",
   "execution_count": 13,
   "id": "afc2c009-dd89-4482-a41c-be9d97613934",
   "metadata": {},
   "outputs": [
    {
     "name": "stdout",
     "output_type": "stream",
     "text": [
      "37/37 [==============================] - 7s 148ms/step\n",
      "Confusion Matrix:\n",
      "[[320 107]\n",
      " [ 98 634]]\n",
      "\n",
      "Classification Report:\n",
      "              precision    recall  f1-score   support\n",
      "\n",
      "    Negative       0.77      0.75      0.76       427\n",
      "    Positive       0.86      0.87      0.86       732\n",
      "\n",
      "    accuracy                           0.82      1159\n",
      "   macro avg       0.81      0.81      0.81      1159\n",
      "weighted avg       0.82      0.82      0.82      1159\n",
      "\n"
     ]
    }
   ],
   "source": [
    "from sklearn.metrics import classification_report, confusion_matrix\n",
    "import numpy as np\n",
    "\n",
    "# Generating predictions\n",
    "predictions = model.predict([test_inputs, test_attention])\n",
    "predicted_labels = (predictions.flatten() > 0.5).astype(int)\n",
    "\n",
    "# Confusion matrix\n",
    "conf_matrix = confusion_matrix(test_labels, predicted_labels)\n",
    "print(\"Confusion Matrix:\")\n",
    "print(conf_matrix)\n",
    "\n",
    "# Classification report\n",
    "class_report = classification_report(test_labels, predicted_labels, target_names=[\"Negative\", \"Positive\"])\n",
    "print(\"\\nClassification Report:\")\n",
    "print(class_report)\n"
   ]
  },
  {
   "cell_type": "code",
   "execution_count": null,
   "id": "6f0f393b-4051-4114-950e-bdc0526efd73",
   "metadata": {},
   "outputs": [],
   "source": []
  }
 ],
 "metadata": {
  "kernelspec": {
   "display_name": "venv-p39-tf2",
   "language": "python",
   "name": "venv-p39-tf2"
  },
  "language_info": {
   "codemirror_mode": {
    "name": "ipython",
    "version": 3
   },
   "file_extension": ".py",
   "mimetype": "text/x-python",
   "name": "python",
   "nbconvert_exporter": "python",
   "pygments_lexer": "ipython3",
   "version": "3.9.20"
  }
 },
 "nbformat": 4,
 "nbformat_minor": 5
}
